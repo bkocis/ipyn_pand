{
 "metadata": {
  "name": ""
 },
 "nbformat": 3,
 "nbformat_minor": 0,
 "worksheets": [
  {
   "cells": [
    {
     "cell_type": "markdown",
     "metadata": {},
     "source": [
      "### The book, the reference "
     ]
    },
    {
     "cell_type": "markdown",
     "metadata": {},
     "source": [
      "<img src='files/img/wes_book.png' style='width: 300'>"
     ]
    },
    {
     "cell_type": "markdown",
     "metadata": {},
     "source": [
      "Download it here :\n",
      "http://it-ebooks.info/book/1041/"
     ]
    },
    {
     "cell_type": "markdown",
     "metadata": {},
     "source": [
      "or buy it, or go to the library."
     ]
    },
    {
     "cell_type": "markdown",
     "metadata": {},
     "source": [
      "Food nutrient example database downloadable here: http://ashleyw.co.uk/project/food-nutrient-database\n",
      "    \n",
      "more about it here: http://jpkab.nodejitsu.com/pandas-on-food-stamps-a-quick-tutorial/\n",
      "\n",
      "and here: https://usa.ipums.org/usa-action/samples\n"
     ]
    },
    {
     "cell_type": "markdown",
     "metadata": {},
     "source": [
      "### more links\n",
      "\n",
      "<img src='files/img/d3.png' style='width:200'>\n",
      "\n",
      "http://d3js.org/"
     ]
    },
    {
     "cell_type": "markdown",
     "metadata": {},
     "source": [
      "###Almost art\n",
      "\n",
      "<img src='files/img/art.png' style='width: 300'>\n",
      "\n",
      "[Created with python!](http://kunalanand.com/delicious/)"
     ]
    },
    {
     "cell_type": "code",
     "collapsed": false,
     "input": [],
     "language": "python",
     "metadata": {},
     "outputs": []
    }
   ],
   "metadata": {}
  }
 ]
}